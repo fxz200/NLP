{
  "nbformat": 4,
  "nbformat_minor": 0,
  "metadata": {
    "colab": {
      "provenance": [],
      "collapsed_sections": [
        "dyJM0A5jCg9Y"
      ]
    },
    "kernelspec": {
      "name": "python3",
      "display_name": "Python 3"
    },
    "language_info": {
      "name": "python"
    }
  },
  "cells": [
    {
      "cell_type": "markdown",
      "source": [
        "## Install packages"
      ],
      "metadata": {
        "id": "dyJM0A5jCg9Y"
      }
    },
    {
      "cell_type": "markdown",
      "source": [
        "- `kenlm`\n",
        "- `datasets`\n",
        "- `pycorrector`\n",
        "\n",
        "```shell\n",
        "pip install datasets\n",
        "pip install kenlm\n",
        "pip install -U pycorrector\n",
        "```"
      ],
      "metadata": {
        "id": "CYg-OtEICvMJ"
      }
    },
    {
      "cell_type": "code",
      "execution_count": 1,
      "metadata": {
        "colab": {
          "base_uri": "https://localhost:8080/"
        },
        "id": "mYvc_0FwCX8V",
        "outputId": "461e5165-8543-474a-f71b-f01cfa556124"
      },
      "outputs": [
        {
          "output_type": "stream",
          "name": "stdout",
          "text": [
            "Collecting pycorrector\n",
            "  Downloading pycorrector-1.0.0.tar.gz (4.4 MB)\n",
            "\u001b[2K     \u001b[90m━━━━━━━━━━━━━━━━━━━━━━━━━━━━━━━━━━━━━━━━\u001b[0m \u001b[32m4.4/4.4 MB\u001b[0m \u001b[31m16.9 MB/s\u001b[0m eta \u001b[36m0:00:00\u001b[0m\n",
            "\u001b[?25h  Preparing metadata (setup.py) ... \u001b[?25l\u001b[?25hdone\n",
            "Requirement already satisfied: jieba in /usr/local/lib/python3.10/dist-packages (from pycorrector) (0.42.1)\n",
            "Collecting pypinyin (from pycorrector)\n",
            "  Downloading pypinyin-0.49.0-py2.py3-none-any.whl (1.4 MB)\n",
            "\u001b[2K     \u001b[90m━━━━━━━━━━━━━━━━━━━━━━━━━━━━━━━━━━━━━━━━\u001b[0m \u001b[32m1.4/1.4 MB\u001b[0m \u001b[31m28.0 MB/s\u001b[0m eta \u001b[36m0:00:00\u001b[0m\n",
            "\u001b[?25hRequirement already satisfied: numpy in /usr/local/lib/python3.10/dist-packages (from pycorrector) (1.23.5)\n",
            "Requirement already satisfied: six in /usr/local/lib/python3.10/dist-packages (from pycorrector) (1.16.0)\n",
            "Collecting loguru (from pycorrector)\n",
            "  Downloading loguru-0.7.2-py3-none-any.whl (62 kB)\n",
            "\u001b[2K     \u001b[90m━━━━━━━━━━━━━━━━━━━━━━━━━━━━━━━━━━━━━━━━\u001b[0m \u001b[32m62.5/62.5 kB\u001b[0m \u001b[31m7.7 MB/s\u001b[0m eta \u001b[36m0:00:00\u001b[0m\n",
            "\u001b[?25hCollecting kenlm (from pycorrector)\n",
            "  Downloading kenlm-0.2.0.tar.gz (427 kB)\n",
            "\u001b[2K     \u001b[90m━━━━━━━━━━━━━━━━━━━━━━━━━━━━━━━━━━━━━━━━\u001b[0m \u001b[32m427.4/427.4 kB\u001b[0m \u001b[31m25.6 MB/s\u001b[0m eta \u001b[36m0:00:00\u001b[0m\n",
            "\u001b[?25h  Installing build dependencies ... \u001b[?25l\u001b[?25hdone\n",
            "  Getting requirements to build wheel ... \u001b[?25l\u001b[?25hdone\n",
            "  Preparing metadata (pyproject.toml) ... \u001b[?25l\u001b[?25hdone\n",
            "Building wheels for collected packages: pycorrector, kenlm\n",
            "  Building wheel for pycorrector (setup.py) ... \u001b[?25l\u001b[?25hdone\n",
            "  Created wheel for pycorrector: filename=pycorrector-1.0.0-py3-none-any.whl size=4373305 sha256=214db0d30eb1d3259bace544d30a96865d97a4d9735a9a4b7b52877855b3c97c\n",
            "  Stored in directory: /root/.cache/pip/wheels/1a/aa/44/026cd8cf5f66660558654b36abcb9216e87349ab7cfd6499a8\n",
            "  Building wheel for kenlm (pyproject.toml) ... \u001b[?25l\u001b[?25hdone\n",
            "  Created wheel for kenlm: filename=kenlm-0.2.0-cp310-cp310-linux_x86_64.whl size=3184423 sha256=13bded00d9e040c3e7be3be9abbfd2f896bdcc300c65831c50fa3ffeb7502bab\n",
            "  Stored in directory: /root/.cache/pip/wheels/fd/80/e0/18f4148e863fb137bd87e21ee2bf423b81b3ed6989dab95135\n",
            "Successfully built pycorrector kenlm\n",
            "Installing collected packages: kenlm, pypinyin, loguru, pycorrector\n",
            "Successfully installed kenlm-0.2.0 loguru-0.7.2 pycorrector-1.0.0 pypinyin-0.49.0\n"
          ]
        }
      ],
      "source": [
        "# Colab\n",
        "!pip install -U pycorrector"
      ]
    },
    {
      "cell_type": "code",
      "source": [
        "! pip install datasets"
      ],
      "metadata": {
        "colab": {
          "base_uri": "https://localhost:8080/"
        },
        "id": "_1C57fUKEwGJ",
        "outputId": "d4a164e9-703e-4615-fa0e-76288af1b6b5"
      },
      "execution_count": 2,
      "outputs": [
        {
          "output_type": "stream",
          "name": "stdout",
          "text": [
            "Collecting datasets\n",
            "  Downloading datasets-2.15.0-py3-none-any.whl (521 kB)\n",
            "\u001b[2K     \u001b[90m━━━━━━━━━━━━━━━━━━━━━━━━━━━━━━━━━━━━━━━━\u001b[0m \u001b[32m521.2/521.2 kB\u001b[0m \u001b[31m5.3 MB/s\u001b[0m eta \u001b[36m0:00:00\u001b[0m\n",
            "\u001b[?25hRequirement already satisfied: numpy>=1.17 in /usr/local/lib/python3.10/dist-packages (from datasets) (1.23.5)\n",
            "Requirement already satisfied: pyarrow>=8.0.0 in /usr/local/lib/python3.10/dist-packages (from datasets) (9.0.0)\n",
            "Collecting pyarrow-hotfix (from datasets)\n",
            "  Downloading pyarrow_hotfix-0.6-py3-none-any.whl (7.9 kB)\n",
            "Collecting dill<0.3.8,>=0.3.0 (from datasets)\n",
            "  Downloading dill-0.3.7-py3-none-any.whl (115 kB)\n",
            "\u001b[2K     \u001b[90m━━━━━━━━━━━━━━━━━━━━━━━━━━━━━━━━━━━━━━━━\u001b[0m \u001b[32m115.3/115.3 kB\u001b[0m \u001b[31m8.7 MB/s\u001b[0m eta \u001b[36m0:00:00\u001b[0m\n",
            "\u001b[?25hRequirement already satisfied: pandas in /usr/local/lib/python3.10/dist-packages (from datasets) (1.5.3)\n",
            "Requirement already satisfied: requests>=2.19.0 in /usr/local/lib/python3.10/dist-packages (from datasets) (2.31.0)\n",
            "Requirement already satisfied: tqdm>=4.62.1 in /usr/local/lib/python3.10/dist-packages (from datasets) (4.66.1)\n",
            "Requirement already satisfied: xxhash in /usr/local/lib/python3.10/dist-packages (from datasets) (3.4.1)\n",
            "Collecting multiprocess (from datasets)\n",
            "  Downloading multiprocess-0.70.15-py310-none-any.whl (134 kB)\n",
            "\u001b[2K     \u001b[90m━━━━━━━━━━━━━━━━━━━━━━━━━━━━━━━━━━━━━━━━\u001b[0m \u001b[32m134.8/134.8 kB\u001b[0m \u001b[31m8.7 MB/s\u001b[0m eta \u001b[36m0:00:00\u001b[0m\n",
            "\u001b[?25hRequirement already satisfied: fsspec[http]<=2023.10.0,>=2023.1.0 in /usr/local/lib/python3.10/dist-packages (from datasets) (2023.6.0)\n",
            "Requirement already satisfied: aiohttp in /usr/local/lib/python3.10/dist-packages (from datasets) (3.8.6)\n",
            "Requirement already satisfied: huggingface-hub>=0.18.0 in /usr/local/lib/python3.10/dist-packages (from datasets) (0.19.4)\n",
            "Requirement already satisfied: packaging in /usr/local/lib/python3.10/dist-packages (from datasets) (23.2)\n",
            "Requirement already satisfied: pyyaml>=5.1 in /usr/local/lib/python3.10/dist-packages (from datasets) (6.0.1)\n",
            "Requirement already satisfied: attrs>=17.3.0 in /usr/local/lib/python3.10/dist-packages (from aiohttp->datasets) (23.1.0)\n",
            "Requirement already satisfied: charset-normalizer<4.0,>=2.0 in /usr/local/lib/python3.10/dist-packages (from aiohttp->datasets) (3.3.2)\n",
            "Requirement already satisfied: multidict<7.0,>=4.5 in /usr/local/lib/python3.10/dist-packages (from aiohttp->datasets) (6.0.4)\n",
            "Requirement already satisfied: async-timeout<5.0,>=4.0.0a3 in /usr/local/lib/python3.10/dist-packages (from aiohttp->datasets) (4.0.3)\n",
            "Requirement already satisfied: yarl<2.0,>=1.0 in /usr/local/lib/python3.10/dist-packages (from aiohttp->datasets) (1.9.2)\n",
            "Requirement already satisfied: frozenlist>=1.1.1 in /usr/local/lib/python3.10/dist-packages (from aiohttp->datasets) (1.4.0)\n",
            "Requirement already satisfied: aiosignal>=1.1.2 in /usr/local/lib/python3.10/dist-packages (from aiohttp->datasets) (1.3.1)\n",
            "Requirement already satisfied: filelock in /usr/local/lib/python3.10/dist-packages (from huggingface-hub>=0.18.0->datasets) (3.13.1)\n",
            "Requirement already satisfied: typing-extensions>=3.7.4.3 in /usr/local/lib/python3.10/dist-packages (from huggingface-hub>=0.18.0->datasets) (4.5.0)\n",
            "Requirement already satisfied: idna<4,>=2.5 in /usr/local/lib/python3.10/dist-packages (from requests>=2.19.0->datasets) (3.4)\n",
            "Requirement already satisfied: urllib3<3,>=1.21.1 in /usr/local/lib/python3.10/dist-packages (from requests>=2.19.0->datasets) (2.0.7)\n",
            "Requirement already satisfied: certifi>=2017.4.17 in /usr/local/lib/python3.10/dist-packages (from requests>=2.19.0->datasets) (2023.7.22)\n",
            "Requirement already satisfied: python-dateutil>=2.8.1 in /usr/local/lib/python3.10/dist-packages (from pandas->datasets) (2.8.2)\n",
            "Requirement already satisfied: pytz>=2020.1 in /usr/local/lib/python3.10/dist-packages (from pandas->datasets) (2023.3.post1)\n",
            "Requirement already satisfied: six>=1.5 in /usr/local/lib/python3.10/dist-packages (from python-dateutil>=2.8.1->pandas->datasets) (1.16.0)\n",
            "Installing collected packages: pyarrow-hotfix, dill, multiprocess, datasets\n",
            "Successfully installed datasets-2.15.0 dill-0.3.7 multiprocess-0.70.15 pyarrow-hotfix-0.6\n"
          ]
        }
      ]
    },
    {
      "cell_type": "markdown",
      "source": [
        "## Start to correct"
      ],
      "metadata": {
        "id": "DcFi6oJfDCHo"
      }
    },
    {
      "cell_type": "code",
      "source": [
        "from pycorrector import Corrector\n",
        "import pycorrector\n",
        "\n",
        "class EmailHelper(Corrector):\n",
        "\n",
        "    # translate traditional Chinese to simplified Chinese\n",
        "    def tra2sim(self, content):\n",
        "        try:\n",
        "            sim_content = pycorrector.traditional2simplified(content.replace(\"\\n\", '').replace(\" \", ''))\n",
        "            return [sim_content]\n",
        "        except:\n",
        "            sim_content = [pycorrector.traditional2simplified(tra_content.replace(\"\\n\", '').replace(\" \", '')) for tra_content in content]\n",
        "            return sim_content\n",
        "\n",
        "    # get the values which the key equals to \"target\"\n",
        "    def get_target(self, correct_dict):\n",
        "        if len(correct_dict) == 1:\n",
        "            self.error = correct_dict[0][\"errors\"]\n",
        "            return correct_dict[0][\"target\"]\n",
        "        else:\n",
        "            self.error = [f\"第{i+1}篇錯誤：{j['errors']}\" for i, j in enumerate(correct_dict)]\n",
        "            return [i[\"target\"] for i in correct_dict]\n",
        "\n",
        "\n",
        "    # translate traditional Chinese to simplified Chinese\n",
        "    def sim2tra(self, content):\n",
        "        if type(content) == str:\n",
        "            tra_content = pycorrector.simplified2traditional(content)\n",
        "        else:\n",
        "            tra_content = [pycorrector.simplified2traditional(sim_content) for sim_content in content]\n",
        "        return tra_content"
      ],
      "metadata": {
        "id": "3ZnfOPMHEzhl"
      },
      "execution_count": 5,
      "outputs": []
    },
    {
      "cell_type": "code",
      "source": [
        "emailhelper = EmailHelper()"
      ],
      "metadata": {
        "id": "Am2n0alZGEco"
      },
      "execution_count": 10,
      "outputs": []
    },
    {
      "cell_type": "markdown",
      "source": [
        "### 單篇文章\n",
        "> input: str <br>\n",
        "> output: str"
      ],
      "metadata": {
        "id": "S0vafvBFEx8H"
      }
    },
    {
      "cell_type": "code",
      "source": [
        "mail = \"\"\"\n",
        "    我寫這封信是為了向您於10/7星期午請一天假，\n",
        "\n",
        "    因為我當天要參加一位置友的喪禮。\n",
        "\n",
        "    我確認過公司的行事例了，\n",
        "\n",
        "    我想我可以在那天之前把交辦事項處李好。\n",
        "\n",
        "    感蟹您的諒解。\n",
        "    \"\"\""
      ],
      "metadata": {
        "id": "3_IrbIy3FUT-"
      },
      "execution_count": 28,
      "outputs": []
    },
    {
      "cell_type": "code",
      "source": [
        "mail = emailhelper.tra2sim(mail)\n",
        "mail = emailhelper.correct_batch(mail)\n",
        "mail = emailhelper.get_target(mail)\n",
        "mail = emailhelper.sim2tra(mail)\n",
        "mail"
      ],
      "metadata": {
        "colab": {
          "base_uri": "https://localhost:8080/",
          "height": 37
        },
        "id": "tFwIi6sQFjRj",
        "outputId": "43c10363-a2cd-46e3-f3fc-0347e6bfcbfa"
      },
      "execution_count": 29,
      "outputs": [
        {
          "output_type": "execute_result",
          "data": {
            "text/plain": [
              "'我寫這封信是為了向您於10/7星期五請一天假，因為我當天要參加一位摯友的喪禮。我確認過公司的行事例了，我想我可以在那天之前把交辦事項處理好。感謝您的諒解。'"
            ],
            "application/vnd.google.colaboratory.intrinsic+json": {
              "type": "string"
            }
          },
          "metadata": {},
          "execution_count": 29
        }
      ]
    },
    {
      "cell_type": "code",
      "source": [
        "# 檢查文章之錯誤\n",
        "emailhelper.error"
      ],
      "metadata": {
        "colab": {
          "base_uri": "https://localhost:8080/"
        },
        "id": "92ykLRjZHfiX",
        "outputId": "2dbb6038-afda-461d-be9c-c38aef986e09"
      },
      "execution_count": 30,
      "outputs": [
        {
          "output_type": "execute_result",
          "data": {
            "text/plain": [
              "[('午请', '五请', 17), ('置友', '挚友', 33), ('李', '理', 67), ('感蟹', '感谢', 70)]"
            ]
          },
          "metadata": {},
          "execution_count": 30
        }
      ]
    },
    {
      "cell_type": "markdown",
      "source": [
        "### 多篇文章\n",
        "> input: list <br>\n",
        "> output: list"
      ],
      "metadata": {
        "id": "9yRbbfoGRRpI"
      }
    },
    {
      "cell_type": "code",
      "source": [
        "mail_list = [\n",
        "    \"\"\"\n",
        "    我寫這封信是為了向您於10/7星期五請一天假，\n",
        "\n",
        "    因為我當天要參加一位摯友的喪禮。\n",
        "\n",
        "    我確認過公司的行事曆了，\n",
        "\n",
        "    我想我可以在那天之前把交辦事項處理好。\n",
        "\n",
        "    感謝您的諒解。\n",
        "    \"\"\",\n",
        "    \"\"\"\n",
        "    我寫這封信是為了向您於10/7星期午請一天假，\n",
        "\n",
        "    因為我當天要參加一位置友的喪禮。\n",
        "\n",
        "    我確認過公司的行事例了，\n",
        "\n",
        "    我想我可以在那天之前把交辦事項處李好。\n",
        "\n",
        "    感蟹您的諒解。\n",
        "    \"\"\"\n",
        "]"
      ],
      "metadata": {
        "id": "cd6nsir5Fwlt"
      },
      "execution_count": 31,
      "outputs": []
    },
    {
      "cell_type": "code",
      "source": [
        "mail_list = emailhelper.tra2sim(mail_list)\n",
        "mail_list = emailhelper.correct_batch(mail_list)\n",
        "mail_list = emailhelper.get_target(mail_list)\n",
        "mail_list = emailhelper.sim2tra(mail_list)\n",
        "mail_list"
      ],
      "metadata": {
        "colab": {
          "base_uri": "https://localhost:8080/"
        },
        "id": "Pzh61BQgF2OF",
        "outputId": "6170e6e6-f5a0-4a8d-89a1-845b420b0466"
      },
      "execution_count": 32,
      "outputs": [
        {
          "output_type": "execute_result",
          "data": {
            "text/plain": [
              "['我寫這封信是為了向您於10/7星期五請一天假，因為我當天要參加一位摯友的喪禮。我確認過公司的行事曆了，我想我可以在那天之前把交辦事項處理好。感謝您的諒解。',\n",
              " '我寫這封信是為了向您於10/7星期五請一天假，因為我當天要參加一位摯友的喪禮。我確認過公司的行事例了，我想我可以在那天之前把交辦事項處理好。感謝您的諒解。']"
            ]
          },
          "metadata": {},
          "execution_count": 32
        }
      ]
    },
    {
      "cell_type": "code",
      "source": [
        "# 檢查文章之錯誤\n",
        "for i in emailhelper.error:\n",
        "    print(i)"
      ],
      "metadata": {
        "colab": {
          "base_uri": "https://localhost:8080/"
        },
        "id": "jRi8knzMKmWe",
        "outputId": "76a6e8e5-f1e9-450b-de2b-36bffd636752"
      },
      "execution_count": 33,
      "outputs": [
        {
          "output_type": "stream",
          "name": "stdout",
          "text": [
            "第1篇錯誤：[]\n",
            "第2篇錯誤：[('午请', '五请', 17), ('置友', '挚友', 33), ('李', '理', 67), ('感蟹', '感谢', 70)]\n"
          ]
        }
      ]
    },
    {
      "cell_type": "code",
      "source": [],
      "metadata": {
        "id": "1bpFfYncTgZh"
      },
      "execution_count": 33,
      "outputs": []
    }
  ]
}